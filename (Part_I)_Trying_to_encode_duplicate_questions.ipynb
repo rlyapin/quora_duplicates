{
 "cells": [
  {
   "cell_type": "markdown",
   "metadata": {},
   "source": [
    "# Using seq2seq models to represent duplicate questions"
   ]
  },
  {
   "cell_type": "markdown",
   "metadata": {},
   "source": [
    "This notebook (and the whole project in general) is dedicated to Quora Kaggle competition where I am supposed to build a model to determine whether two given Quora questions are duplicates of each other\n",
    "\n",
    "For me personally this is a great motivation to try out RNNs so my plan for now is to build some basic encoder-decoder model where I take a question and translate it to its duplicate - this way I could represent original questions with ~100-dimensional vectors and carry on with classification task from there\n",
    "\n",
    "However, there is a catch - the training dataset in this competition consists of only ~400K question pairs and it is somewhat conventionally assumed that RNNs are really demanding in terms of training samples and these ~400K may not be enough \n",
    "\n",
    "To circumvent this problem, in my seq2seq model I will focus on word embeddings (i.e. in the decoding stage of my model I will predict not the actual words but their embeddings - as their dimension is way smaller than the number of all words that should drastically decrease the number of model parameters so that I would have a better match with a small training sample) - I believe this approach looks interesting in its own right"
   ]
  },
  {
   "cell_type": "markdown",
   "metadata": {},
   "source": [
    "## Importing necessary stuff"
   ]
  },
  {
   "cell_type": "markdown",
   "metadata": {},
   "source": [
    "For this project all DL related stuff is handled with keras (version 2.0.x whcih is important as I use merge layers in my model) on top of theano (although I do not make use of any theano-specific features yet)"
   ]
  },
  {
   "cell_type": "code",
   "execution_count": 1,
   "metadata": {
    "collapsed": false
   },
   "outputs": [
    {
     "name": "stderr",
     "output_type": "stream",
     "text": [
      "Using Theano backend.\n"
     ]
    }
   ],
   "source": [
    "import keras\n",
    "from keras import backend as K\n",
    "from keras.models import Sequential, Model\n",
    "from keras.layers import Input, Dense, Dropout, Activation, Embedding, LSTM, RepeatVector, Lambda\n",
    "from keras.layers.merge import Concatenate\n",
    "from keras.preprocessing.sequence import pad_sequences"
   ]
  },
  {
   "cell_type": "markdown",
   "metadata": {},
   "source": [
    "On the NLP side I am interested in word embeddings - as of now I am just building model prototype, I decided to generate them on the fly with gensim implementation of word2vec"
   ]
  },
  {
   "cell_type": "code",
   "execution_count": 2,
   "metadata": {
    "collapsed": false
   },
   "outputs": [
    {
     "name": "stderr",
     "output_type": "stream",
     "text": [
      "C:\\Users\\lyapin roman\\Anaconda2\\envs\\dl_env\\lib\\site-packages\\gensim\\utils.py:855: UserWarning: detected Windows; aliasing chunkize to chunkize_serial\n",
      "  warnings.warn(\"detected Windows; aliasing chunkize to chunkize_serial\")\n"
     ]
    }
   ],
   "source": [
    "import re\n",
    "from gensim.models import Word2Vec\n",
    "import nltk"
   ]
  },
  {
   "cell_type": "markdown",
   "metadata": {},
   "source": [
    "Importing remaining libraries - note cosine_similarity fucntion - later on I manage to get question encodings and compare them between duplicates and non-duplicates"
   ]
  },
  {
   "cell_type": "code",
   "execution_count": 3,
   "metadata": {
    "collapsed": true
   },
   "outputs": [],
   "source": [
    "import os.path\n",
    "import pickle\n",
    "import numpy as np\n",
    "import pandas as pd\n",
    "pd.set_option('display.max_colwidth', -1)  \n",
    "from sklearn.metrics.pairwise import cosine_similarity\n",
    "import matplotlib.pyplot as plt"
   ]
  },
  {
   "cell_type": "code",
   "execution_count": 4,
   "metadata": {
    "collapsed": true
   },
   "outputs": [],
   "source": [
    "%matplotlib inline"
   ]
  },
  {
   "cell_type": "markdown",
   "metadata": {},
   "source": [
    "## Reading the corpus and setting model parameters"
   ]
  },
  {
   "cell_type": "code",
   "execution_count": 5,
   "metadata": {
    "collapsed": true
   },
   "outputs": [],
   "source": [
    "WORD_EMBEDDING_DIM = 100\n",
    "QUESTION_ENCODING_DIM = 100"
   ]
  },
  {
   "cell_type": "markdown",
   "metadata": {},
   "source": [
    "Regarding the corpus for my model: for now I leave the test set aside as my original plan involved translating quesitons to their duplicates (and I need true labels to select those)"
   ]
  },
  {
   "cell_type": "code",
   "execution_count": 6,
   "metadata": {
    "collapsed": false
   },
   "outputs": [
    {
     "name": "stdout",
     "output_type": "stream",
     "text": [
      "The size of training sample: 404290\n"
     ]
    },
    {
     "data": {
      "text/html": [
       "<div>\n",
       "<table border=\"1\" class=\"dataframe\">\n",
       "  <thead>\n",
       "    <tr style=\"text-align: right;\">\n",
       "      <th></th>\n",
       "      <th>id</th>\n",
       "      <th>qid1</th>\n",
       "      <th>qid2</th>\n",
       "      <th>question1</th>\n",
       "      <th>question2</th>\n",
       "      <th>is_duplicate</th>\n",
       "    </tr>\n",
       "  </thead>\n",
       "  <tbody>\n",
       "    <tr>\n",
       "      <th>0</th>\n",
       "      <td>0</td>\n",
       "      <td>1</td>\n",
       "      <td>2</td>\n",
       "      <td>What is the step by step guide to invest in share market in india?</td>\n",
       "      <td>What is the step by step guide to invest in share market?</td>\n",
       "      <td>0</td>\n",
       "    </tr>\n",
       "    <tr>\n",
       "      <th>1</th>\n",
       "      <td>1</td>\n",
       "      <td>3</td>\n",
       "      <td>4</td>\n",
       "      <td>What is the story of Kohinoor (Koh-i-Noor) Diamond?</td>\n",
       "      <td>What would happen if the Indian government stole the Kohinoor (Koh-i-Noor) diamond back?</td>\n",
       "      <td>0</td>\n",
       "    </tr>\n",
       "    <tr>\n",
       "      <th>2</th>\n",
       "      <td>2</td>\n",
       "      <td>5</td>\n",
       "      <td>6</td>\n",
       "      <td>How can I increase the speed of my internet connection while using a VPN?</td>\n",
       "      <td>How can Internet speed be increased by hacking through DNS?</td>\n",
       "      <td>0</td>\n",
       "    </tr>\n",
       "    <tr>\n",
       "      <th>3</th>\n",
       "      <td>3</td>\n",
       "      <td>7</td>\n",
       "      <td>8</td>\n",
       "      <td>Why am I mentally very lonely? How can I solve it?</td>\n",
       "      <td>Find the remainder when [math]23^{24}[/math] is divided by 24,23?</td>\n",
       "      <td>0</td>\n",
       "    </tr>\n",
       "    <tr>\n",
       "      <th>4</th>\n",
       "      <td>4</td>\n",
       "      <td>9</td>\n",
       "      <td>10</td>\n",
       "      <td>Which one dissolve in water quikly sugar, salt, methane and carbon di oxide?</td>\n",
       "      <td>Which fish would survive in salt water?</td>\n",
       "      <td>0</td>\n",
       "    </tr>\n",
       "  </tbody>\n",
       "</table>\n",
       "</div>"
      ],
      "text/plain": [
       "   id  qid1  qid2  \\\n",
       "0  0   1     2      \n",
       "1  1   3     4      \n",
       "2  2   5     6      \n",
       "3  3   7     8      \n",
       "4  4   9     10     \n",
       "\n",
       "                                                                      question1  \\\n",
       "0  What is the step by step guide to invest in share market in india?             \n",
       "1  What is the story of Kohinoor (Koh-i-Noor) Diamond?                            \n",
       "2  How can I increase the speed of my internet connection while using a VPN?      \n",
       "3  Why am I mentally very lonely? How can I solve it?                             \n",
       "4  Which one dissolve in water quikly sugar, salt, methane and carbon di oxide?   \n",
       "\n",
       "                                                                                  question2  \\\n",
       "0  What is the step by step guide to invest in share market?                                  \n",
       "1  What would happen if the Indian government stole the Kohinoor (Koh-i-Noor) diamond back?   \n",
       "2  How can Internet speed be increased by hacking through DNS?                                \n",
       "3  Find the remainder when [math]23^{24}[/math] is divided by 24,23?                          \n",
       "4  Which fish would survive in salt water?                                                    \n",
       "\n",
       "   is_duplicate  \n",
       "0  0             \n",
       "1  0             \n",
       "2  0             \n",
       "3  0             \n",
       "4  0             "
      ]
     },
     "execution_count": 6,
     "metadata": {},
     "output_type": "execute_result"
    }
   ],
   "source": [
    "train_df = pd.read_csv(\"train.csv.zip\", sep=\",\", compression=\"zip\")\n",
    "print(\"The size of training sample: \" + str(len(train_df)))\n",
    "train_df.head()"
   ]
  },
  {
   "cell_type": "markdown",
   "metadata": {
    "collapsed": false
   },
   "source": [
    "## Cleaning the corpus and getting word2vec embeddings"
   ]
  },
  {
   "cell_type": "markdown",
   "metadata": {},
   "source": [
    "To process the corpus I cast everything to lowercase and throw away everything that is not alphanumeric - I also made use of nltk stopwords (however, after inspection it turned out that this stoplist contained words that could define the meaning of the questions - in the future it might make sense to get rid of the stopwords altogether)"
   ]
  },
  {
   "cell_type": "code",
   "execution_count": 7,
   "metadata": {
    "collapsed": false
   },
   "outputs": [],
   "source": [
    "stopwords = set(nltk.corpus.stopwords.words(\"english\"))\n",
    "stopwords = stopwords.difference(set([\"can\", \"who\", \"any\", \"which\", \"when\", \"whom\", \n",
    "                                      \"if\", \"what\", \"how\", \"why\", \"where\", \"only\", \"same\", \"more\", \"now\"\n",
    "                                     ]))\n",
    "\n",
    "def process_question(raw_question):\n",
    "    tokens = re.sub(r\"[^a-z0-9]+\", \" \", str(raw_question).lower()).split()\n",
    "    return [x for x in tokens if x not in stopwords]"
   ]
  },
  {
   "cell_type": "code",
   "execution_count": 8,
   "metadata": {
    "collapsed": false
   },
   "outputs": [
    {
     "name": "stdout",
     "output_type": "stream",
     "text": [
      "The number of unique questions in the corpus: 537933\n",
      "[['what', 'step', 'step', 'guide', 'invest', 'share', 'market', 'india'], ['what', 'step', 'step', 'guide', 'invest', 'share', 'market'], ['what', 'story', 'kohinoor', 'koh', 'noor', 'diamond'], ['what', 'would', 'happen', 'if', 'indian', 'government', 'stole', 'kohinoor', 'koh', 'noor', 'diamond', 'back'], ['how', 'can', 'increase', 'speed', 'internet', 'connection', 'using', 'vpn'], ['how', 'can', 'internet', 'speed', 'increased', 'hacking', 'dns'], ['why', 'mentally', 'lonely', 'how', 'can', 'solve'], ['find', 'remainder', 'when', 'math', '23', '24', 'math', 'divided', '24', '23'], ['which', 'one', 'dissolve', 'water', 'quikly', 'sugar', 'salt', 'methane', 'carbon', 'di', 'oxide'], ['which', 'fish', 'would', 'survive', 'salt', 'water']]\n"
     ]
    }
   ],
   "source": [
    "corpus = []\n",
    "seen_ids = set()\n",
    "\n",
    "for index, row in train_df.iterrows():\n",
    "    q1_id = row[\"qid1\"]\n",
    "    if q1_id not in seen_ids:\n",
    "        corpus.append(process_question(row[\"question1\"]))\n",
    "        seen_ids.add(q1_id)\n",
    "    q2_id = row[\"qid2\"]\n",
    "    if q2_id not in seen_ids:\n",
    "        corpus.append(process_question(row[\"question2\"]))\n",
    "        seen_ids.add(q2_id)    \n",
    "        \n",
    "print(\"The number of unique questions in the corpus: \" + str(len(corpus)))\n",
    "print(corpus[:10])"
   ]
  },
  {
   "cell_type": "markdown",
   "metadata": {},
   "source": [
    "Training word2vec model: note that even if I use pretrained embeddings later I will still need to adapt them to the corpus I have in the competition (to see that it is different enough consider \"cat\" token - in this competition \"cat\" refers less to the animal and more to the standardized test)"
   ]
  },
  {
   "cell_type": "code",
   "execution_count": 9,
   "metadata": {
    "collapsed": false
   },
   "outputs": [],
   "source": [
    "w2v_embeddings = Word2Vec(corpus, size=WORD_EMBEDDING_DIM)"
   ]
  },
  {
   "cell_type": "code",
   "execution_count": 10,
   "metadata": {
    "collapsed": false
   },
   "outputs": [
    {
     "data": {
      "text/plain": [
       "[('xat', 0.7465585470199585),\n",
       " ('gmat', 0.7090531587600708),\n",
       " ('aipmt', 0.7055665850639343),\n",
       " ('percentile', 0.7016848921775818),\n",
       " ('clat', 0.6829637289047241),\n",
       " ('bitsat', 0.6823551654815674),\n",
       " ('sat', 0.6673076152801514),\n",
       " ('toefl', 0.666313111782074),\n",
       " ('cmat', 0.665096640586853),\n",
       " ('iift', 0.6648986339569092)]"
      ]
     },
     "execution_count": 10,
     "metadata": {},
     "output_type": "execute_result"
    }
   ],
   "source": [
    "w2v_embeddings.most_similar(positive=[\"cat\"])"
   ]
  },
  {
   "cell_type": "markdown",
   "metadata": {},
   "source": [
    "## Selecting duplicate question pairs for seq2seq model"
   ]
  },
  {
   "cell_type": "markdown",
   "metadata": {},
   "source": [
    "In order to push duplicate questions into keras model I first need to encode them (replace tokens in the original questions with indices) - to be able to track what my questions stand for afterwards I dump words and indices into double linked dictionaries"
   ]
  },
  {
   "cell_type": "code",
   "execution_count": 11,
   "metadata": {
    "collapsed": false
   },
   "outputs": [
    {
     "name": "stdout",
     "output_type": "stream",
     "text": [
      "The number of unique words in the corpus: 85180\n",
      "The size of the longest question: 108\n"
     ]
    }
   ],
   "source": [
    "word2index_map = {}\n",
    "index2word_map = {}\n",
    "max_question_length = 0\n",
    "current_index = 1\n",
    "\n",
    "for index, row in train_df.iterrows():\n",
    "    tokens_a = process_question(row[\"question1\"])\n",
    "    tokens_b = process_question(row[\"question2\"])\n",
    "    max_question_length = max(max_question_length, max(len(tokens_a), len(tokens_b)))\n",
    "    for token in tokens_a + tokens_b:\n",
    "        if token not in word2index_map:\n",
    "            word2index_map[token] = current_index\n",
    "            index2word_map[current_index] = token\n",
    "            current_index += 1\n",
    "            \n",
    "print(\"The number of unique words in the corpus: \" + str(len(word2index_map)))\n",
    "print(\"The size of the longest question: \" + str(max_question_length))           "
   ]
  },
  {
   "cell_type": "code",
   "execution_count": 12,
   "metadata": {
    "collapsed": false
   },
   "outputs": [
    {
     "name": "stdout",
     "output_type": "stream",
     "text": [
      "The number of duplicate question pairs: 149263\n"
     ]
    },
    {
     "data": {
      "text/html": [
       "<div>\n",
       "<table border=\"1\" class=\"dataframe\">\n",
       "  <thead>\n",
       "    <tr style=\"text-align: right;\">\n",
       "      <th></th>\n",
       "      <th>index</th>\n",
       "      <th>id</th>\n",
       "      <th>qid1</th>\n",
       "      <th>qid2</th>\n",
       "      <th>question1</th>\n",
       "      <th>question2</th>\n",
       "      <th>is_duplicate</th>\n",
       "    </tr>\n",
       "  </thead>\n",
       "  <tbody>\n",
       "    <tr>\n",
       "      <th>0</th>\n",
       "      <td>5</td>\n",
       "      <td>5</td>\n",
       "      <td>11</td>\n",
       "      <td>12</td>\n",
       "      <td>Astrology: I am a Capricorn Sun Cap moon and cap rising...what does that say about me?</td>\n",
       "      <td>I'm a triple Capricorn (Sun, Moon and ascendant in Capricorn) What does this say about me?</td>\n",
       "      <td>1</td>\n",
       "    </tr>\n",
       "    <tr>\n",
       "      <th>1</th>\n",
       "      <td>7</td>\n",
       "      <td>7</td>\n",
       "      <td>15</td>\n",
       "      <td>16</td>\n",
       "      <td>How can I be a good geologist?</td>\n",
       "      <td>What should I do to be a great geologist?</td>\n",
       "      <td>1</td>\n",
       "    </tr>\n",
       "    <tr>\n",
       "      <th>2</th>\n",
       "      <td>11</td>\n",
       "      <td>11</td>\n",
       "      <td>23</td>\n",
       "      <td>24</td>\n",
       "      <td>How do I read and find my YouTube comments?</td>\n",
       "      <td>How can I see all my Youtube comments?</td>\n",
       "      <td>1</td>\n",
       "    </tr>\n",
       "    <tr>\n",
       "      <th>3</th>\n",
       "      <td>12</td>\n",
       "      <td>12</td>\n",
       "      <td>25</td>\n",
       "      <td>26</td>\n",
       "      <td>What can make Physics easy to learn?</td>\n",
       "      <td>How can you make physics easy to learn?</td>\n",
       "      <td>1</td>\n",
       "    </tr>\n",
       "    <tr>\n",
       "      <th>4</th>\n",
       "      <td>13</td>\n",
       "      <td>13</td>\n",
       "      <td>27</td>\n",
       "      <td>28</td>\n",
       "      <td>What was your first sexual experience like?</td>\n",
       "      <td>What was your first sexual experience?</td>\n",
       "      <td>1</td>\n",
       "    </tr>\n",
       "  </tbody>\n",
       "</table>\n",
       "</div>"
      ],
      "text/plain": [
       "   index  id  qid1  qid2  \\\n",
       "0  5      5   11    12     \n",
       "1  7      7   15    16     \n",
       "2  11     11  23    24     \n",
       "3  12     12  25    26     \n",
       "4  13     13  27    28     \n",
       "\n",
       "                                                                                question1  \\\n",
       "0  Astrology: I am a Capricorn Sun Cap moon and cap rising...what does that say about me?   \n",
       "1  How can I be a good geologist?                                                           \n",
       "2  How do I read and find my YouTube comments?                                              \n",
       "3  What can make Physics easy to learn?                                                     \n",
       "4  What was your first sexual experience like?                                              \n",
       "\n",
       "                                                                                    question2  \\\n",
       "0  I'm a triple Capricorn (Sun, Moon and ascendant in Capricorn) What does this say about me?   \n",
       "1  What should I do to be a great geologist?                                                    \n",
       "2  How can I see all my Youtube comments?                                                       \n",
       "3  How can you make physics easy to learn?                                                      \n",
       "4  What was your first sexual experience?                                                       \n",
       "\n",
       "   is_duplicate  \n",
       "0  1             \n",
       "1  1             \n",
       "2  1             \n",
       "3  1             \n",
       "4  1             "
      ]
     },
     "execution_count": 12,
     "metadata": {},
     "output_type": "execute_result"
    }
   ],
   "source": [
    "duplicates = train_df[train_df[\"is_duplicate\"] == 1].reset_index()\n",
    "duplicate_pairs_num = len(duplicates)\n",
    "print(\"The number of duplicate question pairs: \" + str(duplicate_pairs_num))\n",
    "duplicates.head()"
   ]
  },
  {
   "cell_type": "code",
   "execution_count": 13,
   "metadata": {
    "collapsed": false
   },
   "outputs": [],
   "source": [
    "duplicates_left = np.zeros((duplicate_pairs_num, max_question_length))\n",
    "duplicates_right = np.zeros((duplicate_pairs_num, max_question_length))\n",
    "\n",
    "for index, row in duplicates.iterrows():\n",
    "    tokens_left = process_question(row[\"question1\"])\n",
    "    indices_left = [word2index_map[token] for token in tokens_left]\n",
    "    duplicates_left[index, :] = pad_sequences([indices_left], maxlen=max_question_length)\n",
    "    \n",
    "    tokens_right = process_question(row[\"question2\"])\n",
    "    indices_right = [word2index_map[token] for token in tokens_right]\n",
    "    duplicates_right[index, :] = pad_sequences([indices_right], maxlen=max_question_length)"
   ]
  },
  {
   "cell_type": "markdown",
   "metadata": {},
   "source": [
    "## Building an embedding layer"
   ]
  },
  {
   "cell_type": "markdown",
   "metadata": {},
   "source": [
    "The embedding layer is essentially one big matrix where each row is occupied with some word embedding (the correspondence between indices and words can be reestablished using dictionaries I define above) - in order to define the embedding layer keras blog turned out to be of great help (https://blog.keras.io/using-pre-trained-word-embeddings-in-a-keras-model.html)"
   ]
  },
  {
   "cell_type": "code",
   "execution_count": 14,
   "metadata": {
    "collapsed": false
   },
   "outputs": [],
   "source": [
    "embedding_matrix = np.zeros((len(index2word_map) + 1, WORD_EMBEDDING_DIM))\n",
    "for i in range(1, len(index2word_map) + 1):\n",
    "    if index2word_map[i] in w2v_embeddings:\n",
    "        embedding_matrix[i, :] = w2v_embeddings[index2word_map[i]]"
   ]
  },
  {
   "cell_type": "code",
   "execution_count": 15,
   "metadata": {
    "collapsed": true
   },
   "outputs": [],
   "source": [
    "embedding_layer = Embedding(input_dim=len(index2word_map)+1,\n",
    "                            output_dim=WORD_EMBEDDING_DIM,\n",
    "                            weights=[embedding_matrix],\n",
    "                            input_length=max_question_length,\n",
    "                            trainable=False)"
   ]
  },
  {
   "cell_type": "markdown",
   "metadata": {},
   "source": [
    "## Building encoder-decoder model in keras"
   ]
  },
  {
   "cell_type": "markdown",
   "metadata": {},
   "source": [
    "After I defined the embedding layer it is time to build my seq2seq model - this section is a heart of the notebook and it took me quite some time to get everything done\n",
    "\n",
    "The problem was: I already decided I want my model to predict the embeddings and not actual words - however, I could not really store them as then I would have tensor of (~400000, ~100, 100) and that is too much for my laptop - instead, I had to calculate these embeddings on the fly\n",
    "\n",
    "This calculation was rather tricky to implement - sparing the details and just giving out my solution to the problem: I have both original and duplicate questions as an input for my model - the original question goes through whole encoder-decoder pipeline and returns the suggested embeddings, the duplicate questions only goes through embedding layer - on top of them I add a dummy layer which explicitly calculates the loss I want (mean squared error) - on top of that I specify dummy loss function which simply takes the output of this final layer as an objective to optimize\n",
    "\n",
    "Because of that my model does not really have any target variables (my custom_loss makes no use of y_true), yet, in the fit stage I still had to provide some random array (with a proper shape) so that keras would not complain and just do the work\n",
    "\n",
    "Some links that helped me to go through this nightmare of a setup:\n",
    "* https://github.com/fchollet/keras/issues/4685\n",
    "* https://keras.io/getting-started/functional-api-guide/\n",
    "* https://github.com/fchollet/keras/issues/369\n",
    "* https://github.com/fchollet/keras/issues/1919\n"
   ]
  },
  {
   "cell_type": "code",
   "execution_count": 16,
   "metadata": {
    "collapsed": false
   },
   "outputs": [],
   "source": [
    "left_input = Input(shape=(max_question_length,))\n",
    "left_embedded_input = embedding_layer(left_input)\n",
    "encoded_question = LSTM(units=QUESTION_ENCODING_DIM, return_sequences=False)(left_embedded_input)\n",
    "padded_encoding = RepeatVector(max_question_length)(encoded_question)\n",
    "decoded_question = LSTM(units=WORD_EMBEDDING_DIM, return_sequences=True)(padded_encoding)\n",
    "\n",
    "right_input = Input(shape=(max_question_length,))\n",
    "right_embedded_input = embedding_layer(right_input)\n",
    "\n",
    "merged_embeddings = Concatenate(axis=2)([decoded_question, right_embedded_input])\n",
    "\n",
    "def calculate_mse_loss(x):\n",
    "    return keras.metrics.mean_squared_error(x[:, :, :WORD_EMBEDDING_DIM], x[:, :, WORD_EMBEDDING_DIM:])\n",
    "mse_loss_layer = Lambda(calculate_mse_loss, output_shape=(1,))(merged_embeddings)\n",
    "\n",
    "def mse_loss_placeholder(y_true, y_pred):\n",
    "    return y_pred\n",
    "\n",
    "lstm_model = Model(inputs=[left_input, right_input], outputs=mse_loss_layer)\n",
    "lstm_model.compile(loss=mse_loss_placeholder, optimizer=\"adam\")"
   ]
  },
  {
   "cell_type": "code",
   "execution_count": 17,
   "metadata": {
    "collapsed": false
   },
   "outputs": [],
   "source": [
    "if not os.path.isfile(\"base_encoder_weights.h5\"):\n",
    "    lstm_model.fit(x=[duplicates_left, duplicates_right], \n",
    "                   y=np.zeros((duplicates_left.shape[0], 1)), \n",
    "                   verbose=2,\n",
    "                   epochs=1\n",
    "                  )\n",
    "    lstm_model.save_weights(\"base_encoder_weights.h5\")        \n",
    "else:\n",
    "    lstm_model.load_weights(\"base_encoder_weights.h5\")"
   ]
  },
  {
   "cell_type": "markdown",
   "metadata": {},
   "source": [
    "## Generating and comparing question embeddings"
   ]
  },
  {
   "cell_type": "markdown",
   "metadata": {},
   "source": [
    "The code above defined and trained basic seq2seq model, below I want to compare how similar are derived encodings for duplicate and non-duplicate questions - to get the encoding I need to extract the output of intermediary LSTM layer in my model "
   ]
  },
  {
   "cell_type": "code",
   "execution_count": 18,
   "metadata": {
    "collapsed": false
   },
   "outputs": [
    {
     "name": "stdout",
     "output_type": "stream",
     "text": [
      "[<keras.engine.topology.InputLayer object at 0x00000053B2404EF0>, <keras.engine.topology.InputLayer object at 0x00000053D1127FD0>, <keras.layers.embeddings.Embedding object at 0x00000053B23F70B8>, <keras.layers.recurrent.LSTM object at 0x00000053CF2CFFD0>, <keras.layers.core.RepeatVector object at 0x00000053B1D7A2B0>, <keras.layers.recurrent.LSTM object at 0x00000053D0EB3828>, <keras.layers.merge.Concatenate object at 0x00000053D125D710>, <keras.layers.core.Lambda object at 0x00000053D125D3C8>]\n"
     ]
    }
   ],
   "source": [
    "print(lstm_model.layers)\n",
    "\n",
    "get_lstm_layer_output = K.function([lstm_model.layers[0].input], [lstm_model.layers[3].output])\n",
    "def get_question_embedding(x):\n",
    "    return get_lstm_layer_output([x])[0]"
   ]
  },
  {
   "cell_type": "code",
   "execution_count": 21,
   "metadata": {
    "collapsed": true
   },
   "outputs": [],
   "source": [
    "def embed_original_string(original_string):\n",
    "    tokens = process_question(original_string)\n",
    "    indices = [word2index_map[token] for token in tokens]\n",
    "    indices = pad_sequences([indices], maxlen=max_question_length)\n",
    "    embedding = get_question_embedding(indices)\n",
    "    return embedding"
   ]
  },
  {
   "cell_type": "code",
   "execution_count": 22,
   "metadata": {
    "collapsed": false
   },
   "outputs": [],
   "source": [
    "if not os.path.isfile(\"similarities_base.pkl\"):\n",
    "    similarity_dict = {}\n",
    "    for index, row in train_df.iterrows():\n",
    "        embedding_left = embed_original_string(row[\"question1\"])\n",
    "        embedding_right = embed_original_string(row[\"question2\"])\n",
    "        embedding_similarity = cosine_similarity(embedding_left, embedding_right)\n",
    "        similarity_dict[index] = embedding_similarity[0][0]\n",
    "\n",
    "    with open(\"similarities_base.pkl\", 'wb') as f:\n",
    "        pickle.dump(similarity_dict, f, pickle.HIGHEST_PROTOCOL)        \n",
    "else:\n",
    "    with open(\"similarities_base.pkl\", \"rb\") as f:\n",
    "        similarity_dict = pickle.load(f)\n",
    "\n",
    "train_df[\"question_similarity\"] = pd.Series(similarity_dict)"
   ]
  },
  {
   "cell_type": "code",
   "execution_count": 23,
   "metadata": {
    "collapsed": false
   },
   "outputs": [
    {
     "data": {
      "image/png": "[encoded data removed]",
      "text/plain": [
       "<matplotlib.figure.Figure at 0x53b23e80b8>"
      ]
     },
     "metadata": {},
     "output_type": "display_data"
    }
   ],
   "source": [
    "duplicate_similarities = train_df[train_df[\"is_duplicate\"] == 1][\"question_similarity\"].values\n",
    "nonduplicate_similarities = train_df[train_df[\"is_duplicate\"] == 0][\"question_similarity\"].values\n",
    "\n",
    "plt.hist(duplicate_similarities, bins=100, normed=1, alpha=0.5, label=\"duplicates\")\n",
    "plt.hist(nonduplicate_similarities, bins=100, normed=1, alpha=0.5, label=\"non-duplicates\")\n",
    "plt.title(\"The distributions of cosine distances between embeddings\")\n",
    "plt.xlim([0.8, 1])\n",
    "plt.legend(loc=\"best\")\n",
    "plt.show()"
   ]
  },
  {
   "cell_type": "markdown",
   "metadata": {},
   "source": [
    "The histograms above show that duplicate questions indeed tend to have more similar encodings (more mass is concentrated closer to identical embeddings where cosine distance is one), yet, it would be better if the distances for non-duplicate questions would be shifted more to the left\n",
    "\n",
    "Alarming fact: the spikes for identical embeddings - may be explained by the fact I calculate word embeddings from scratch and throw away tokens that do not occur frequently enough (without these rare tokens differnt questions may be compressed into the same token list)\n",
    "\n",
    "Also, I should have trained my RNN for more epochs: in previous reruns of this notebook I managed to get to better final state of the model - there the distribution of embedding distances for non-duplicate questions was centered at 0.95 and had more mass to the left (going back to 0.8 values) "
   ]
  },
  {
   "cell_type": "markdown",
   "metadata": {},
   "source": [
    "## Examining pathological cases"
   ]
  },
  {
   "cell_type": "code",
   "execution_count": 24,
   "metadata": {
    "collapsed": false
   },
   "outputs": [
    {
     "data": {
      "text/html": [
       "<div>\n",
       "<table border=\"1\" class=\"dataframe\">\n",
       "  <thead>\n",
       "    <tr style=\"text-align: right;\">\n",
       "      <th></th>\n",
       "      <th>id</th>\n",
       "      <th>qid1</th>\n",
       "      <th>qid2</th>\n",
       "      <th>question1</th>\n",
       "      <th>question2</th>\n",
       "      <th>is_duplicate</th>\n",
       "      <th>question_similarity</th>\n",
       "    </tr>\n",
       "  </thead>\n",
       "  <tbody>\n",
       "    <tr>\n",
       "      <th>8</th>\n",
       "      <td>8</td>\n",
       "      <td>17</td>\n",
       "      <td>18</td>\n",
       "      <td>When do you use シ instead of し?</td>\n",
       "      <td>When do you use \"&amp;\" instead of \"and\"?</td>\n",
       "      <td>0</td>\n",
       "      <td>1.0</td>\n",
       "    </tr>\n",
       "    <tr>\n",
       "      <th>41</th>\n",
       "      <td>41</td>\n",
       "      <td>83</td>\n",
       "      <td>84</td>\n",
       "      <td>When can I expect my Cognizant confirmation mail?</td>\n",
       "      <td>When can I expect Cognizant confirmation mail?</td>\n",
       "      <td>0</td>\n",
       "      <td>1.0</td>\n",
       "    </tr>\n",
       "    <tr>\n",
       "      <th>222</th>\n",
       "      <td>222</td>\n",
       "      <td>445</td>\n",
       "      <td>446</td>\n",
       "      <td>How can I find job in Japan?</td>\n",
       "      <td>How can I find an IT job in Japan?</td>\n",
       "      <td>0</td>\n",
       "      <td>1.0</td>\n",
       "    </tr>\n",
       "    <tr>\n",
       "      <th>277</th>\n",
       "      <td>277</td>\n",
       "      <td>554</td>\n",
       "      <td>555</td>\n",
       "      <td>How do most people die?</td>\n",
       "      <td>How do people die?</td>\n",
       "      <td>0</td>\n",
       "      <td>1.0</td>\n",
       "    </tr>\n",
       "    <tr>\n",
       "      <th>292</th>\n",
       "      <td>292</td>\n",
       "      <td>584</td>\n",
       "      <td>585</td>\n",
       "      <td>What is CPAGrip.com?</td>\n",
       "      <td>What is bestmytest.com?</td>\n",
       "      <td>0</td>\n",
       "      <td>1.0</td>\n",
       "    </tr>\n",
       "    <tr>\n",
       "      <th>298</th>\n",
       "      <td>298</td>\n",
       "      <td>596</td>\n",
       "      <td>597</td>\n",
       "      <td>On what online platforms can I post ads for beer money opportunity?</td>\n",
       "      <td>What online platforms can I post ads for beer money opportunity?</td>\n",
       "      <td>0</td>\n",
       "      <td>1.0</td>\n",
       "    </tr>\n",
       "    <tr>\n",
       "      <th>774</th>\n",
       "      <td>774</td>\n",
       "      <td>1543</td>\n",
       "      <td>1544</td>\n",
       "      <td>How is the word 'valiant' used in a sentence?</td>\n",
       "      <td>How is the word 'contorted' used in a sentence?</td>\n",
       "      <td>0</td>\n",
       "      <td>1.0</td>\n",
       "    </tr>\n",
       "    <tr>\n",
       "      <th>963</th>\n",
       "      <td>963</td>\n",
       "      <td>1921</td>\n",
       "      <td>1922</td>\n",
       "      <td>What kind of animal did this?</td>\n",
       "      <td>What kind of animal are you?</td>\n",
       "      <td>0</td>\n",
       "      <td>1.0</td>\n",
       "    </tr>\n",
       "    <tr>\n",
       "      <th>1188</th>\n",
       "      <td>1188</td>\n",
       "      <td>2368</td>\n",
       "      <td>2369</td>\n",
       "      <td>How can I pass the HP0-M40 exam?</td>\n",
       "      <td>How can I pass the HP0-M33 exam?</td>\n",
       "      <td>0</td>\n",
       "      <td>1.0</td>\n",
       "    </tr>\n",
       "    <tr>\n",
       "      <th>1195</th>\n",
       "      <td>1195</td>\n",
       "      <td>2382</td>\n",
       "      <td>2383</td>\n",
       "      <td>Who are you a role model for?</td>\n",
       "      <td>Who is your role model?</td>\n",
       "      <td>0</td>\n",
       "      <td>1.0</td>\n",
       "    </tr>\n",
       "    <tr>\n",
       "      <th>1200</th>\n",
       "      <td>1200</td>\n",
       "      <td>2392</td>\n",
       "      <td>2393</td>\n",
       "      <td>Should I buy this new laptop or not?</td>\n",
       "      <td>Should I buy a new laptop?</td>\n",
       "      <td>0</td>\n",
       "      <td>1.0</td>\n",
       "    </tr>\n",
       "    <tr>\n",
       "      <th>1202</th>\n",
       "      <td>1202</td>\n",
       "      <td>2396</td>\n",
       "      <td>2397</td>\n",
       "      <td>What is triloca.com?</td>\n",
       "      <td>What does Kakigarden.com do?</td>\n",
       "      <td>0</td>\n",
       "      <td>1.0</td>\n",
       "    </tr>\n",
       "    <tr>\n",
       "      <th>1733</th>\n",
       "      <td>1733</td>\n",
       "      <td>3451</td>\n",
       "      <td>3452</td>\n",
       "      <td>Harvard College Courses: What is general shopping advice for HBTM classes?</td>\n",
       "      <td>Harvard College Courses: What is general shopping advice for SCRB classes?</td>\n",
       "      <td>0</td>\n",
       "      <td>1.0</td>\n",
       "    </tr>\n",
       "    <tr>\n",
       "      <th>1877</th>\n",
       "      <td>1877</td>\n",
       "      <td>3737</td>\n",
       "      <td>3738</td>\n",
       "      <td>What is Kaufmich.com?</td>\n",
       "      <td>What does superbcrew.com do?</td>\n",
       "      <td>0</td>\n",
       "      <td>1.0</td>\n",
       "    </tr>\n",
       "    <tr>\n",
       "      <th>2093</th>\n",
       "      <td>2093</td>\n",
       "      <td>4165</td>\n",
       "      <td>4166</td>\n",
       "      <td>What is the meaning of Urdu word 'Nasaaz'?</td>\n",
       "      <td>What is the meaning of Urdu word 'Ehteraam'?</td>\n",
       "      <td>0</td>\n",
       "      <td>1.0</td>\n",
       "    </tr>\n",
       "    <tr>\n",
       "      <th>2249</th>\n",
       "      <td>2249</td>\n",
       "      <td>4474</td>\n",
       "      <td>2168</td>\n",
       "      <td>How is the word \"jocund\" used in a sentence?</td>\n",
       "      <td>How is the word 'inarticulate' used in a sentence?</td>\n",
       "      <td>0</td>\n",
       "      <td>1.0</td>\n",
       "    </tr>\n",
       "    <tr>\n",
       "      <th>2461</th>\n",
       "      <td>2461</td>\n",
       "      <td>4891</td>\n",
       "      <td>4892</td>\n",
       "      <td>Who owns FinViz.com?</td>\n",
       "      <td>Who owns BillGates.com?</td>\n",
       "      <td>0</td>\n",
       "      <td>1.0</td>\n",
       "    </tr>\n",
       "    <tr>\n",
       "      <th>3148</th>\n",
       "      <td>3148</td>\n",
       "      <td>6241</td>\n",
       "      <td>6242</td>\n",
       "      <td>How do I overcome my inferiority complex ?</td>\n",
       "      <td>How do I overcome my inferiority complex?</td>\n",
       "      <td>0</td>\n",
       "      <td>1.0</td>\n",
       "    </tr>\n",
       "    <tr>\n",
       "      <th>3157</th>\n",
       "      <td>3157</td>\n",
       "      <td>6259</td>\n",
       "      <td>6260</td>\n",
       "      <td>Is sexstorian.com safe?</td>\n",
       "      <td>Is zerocensorship.com safe?</td>\n",
       "      <td>0</td>\n",
       "      <td>1.0</td>\n",
       "    </tr>\n",
       "    <tr>\n",
       "      <th>3981</th>\n",
       "      <td>3981</td>\n",
       "      <td>7884</td>\n",
       "      <td>7885</td>\n",
       "      <td>How is the word 'furtive' used in a sentence?</td>\n",
       "      <td>How is the word 'prestidigitation' used in a sentence?</td>\n",
       "      <td>0</td>\n",
       "      <td>1.0</td>\n",
       "    </tr>\n",
       "  </tbody>\n",
       "</table>\n",
       "</div>"
      ],
      "text/plain": [
       "        id  qid1  qid2  \\\n",
       "8     8     17    18     \n",
       "41    41    83    84     \n",
       "222   222   445   446    \n",
       "277   277   554   555    \n",
       "292   292   584   585    \n",
       "298   298   596   597    \n",
       "774   774   1543  1544   \n",
       "963   963   1921  1922   \n",
       "1188  1188  2368  2369   \n",
       "1195  1195  2382  2383   \n",
       "1200  1200  2392  2393   \n",
       "1202  1202  2396  2397   \n",
       "1733  1733  3451  3452   \n",
       "1877  1877  3737  3738   \n",
       "2093  2093  4165  4166   \n",
       "2249  2249  4474  2168   \n",
       "2461  2461  4891  4892   \n",
       "3148  3148  6241  6242   \n",
       "3157  3157  6259  6260   \n",
       "3981  3981  7884  7885   \n",
       "\n",
       "                                                                       question1  \\\n",
       "8     When do you use シ instead of し?                                              \n",
       "41    When can I expect my Cognizant confirmation mail?                            \n",
       "222   How can I find job in Japan?                                                 \n",
       "277   How do most people die?                                                      \n",
       "292   What is CPAGrip.com?                                                         \n",
       "298   On what online platforms can I post ads for beer money opportunity?          \n",
       "774   How is the word 'valiant' used in a sentence?                                \n",
       "963   What kind of animal did this?                                                \n",
       "1188  How can I pass the HP0-M40 exam?                                             \n",
       "1195  Who are you a role model for?                                                \n",
       "1200  Should I buy this new laptop or not?                                         \n",
       "1202  What is triloca.com?                                                         \n",
       "1733  Harvard College Courses: What is general shopping advice for HBTM classes?   \n",
       "1877  What is Kaufmich.com?                                                        \n",
       "2093  What is the meaning of Urdu word 'Nasaaz'?                                   \n",
       "2249  How is the word \"jocund\" used in a sentence?                                 \n",
       "2461  Who owns FinViz.com?                                                         \n",
       "3148  How do I overcome my inferiority complex ?                                   \n",
       "3157  Is sexstorian.com safe?                                                      \n",
       "3981  How is the word 'furtive' used in a sentence?                                \n",
       "\n",
       "                                                                       question2  \\\n",
       "8     When do you use \"&\" instead of \"and\"?                                        \n",
       "41    When can I expect Cognizant confirmation mail?                               \n",
       "222   How can I find an IT job in Japan?                                           \n",
       "277   How do people die?                                                           \n",
       "292   What is bestmytest.com?                                                      \n",
       "298   What online platforms can I post ads for beer money opportunity?             \n",
       "774   How is the word 'contorted' used in a sentence?                              \n",
       "963   What kind of animal are you?                                                 \n",
       "1188  How can I pass the HP0-M33 exam?                                             \n",
       "1195  Who is your role model?                                                      \n",
       "1200  Should I buy a new laptop?                                                   \n",
       "1202  What does Kakigarden.com do?                                                 \n",
       "1733  Harvard College Courses: What is general shopping advice for SCRB classes?   \n",
       "1877  What does superbcrew.com do?                                                 \n",
       "2093  What is the meaning of Urdu word 'Ehteraam'?                                 \n",
       "2249  How is the word 'inarticulate' used in a sentence?                           \n",
       "2461  Who owns BillGates.com?                                                      \n",
       "3148  How do I overcome my inferiority complex?                                    \n",
       "3157  Is zerocensorship.com safe?                                                  \n",
       "3981  How is the word 'prestidigitation' used in a sentence?                       \n",
       "\n",
       "      is_duplicate  question_similarity  \n",
       "8     0             1.0                  \n",
       "41    0             1.0                  \n",
       "222   0             1.0                  \n",
       "277   0             1.0                  \n",
       "292   0             1.0                  \n",
       "298   0             1.0                  \n",
       "774   0             1.0                  \n",
       "963   0             1.0                  \n",
       "1188  0             1.0                  \n",
       "1195  0             1.0                  \n",
       "1200  0             1.0                  \n",
       "1202  0             1.0                  \n",
       "1733  0             1.0                  \n",
       "1877  0             1.0                  \n",
       "2093  0             1.0                  \n",
       "2249  0             1.0                  \n",
       "2461  0             1.0                  \n",
       "3148  0             1.0                  \n",
       "3157  0             1.0                  \n",
       "3981  0             1.0                  "
      ]
     },
     "execution_count": 24,
     "metadata": {},
     "output_type": "execute_result"
    }
   ],
   "source": [
    "pathological_cases = train_df[train_df[\"is_duplicate\"] == 0]\n",
    "pathological_cases = pathological_cases[pathological_cases[\"question_similarity\"] == 1]\n",
    "pathological_cases.head(20)"
   ]
  },
  {
   "cell_type": "markdown",
   "metadata": {},
   "source": [
    "Explaining cases where non-duplicate questions have identical encodings (so that their cosine distance equals one) and some ideas how this situation can be tackled in follow-up analysis:\n",
    "* in general adding more data may lead to richer and more distinct embeddings: as of now I only look at duplicate pairs - however, in some sense every question is a duplicate of itself so I can greatly enhance my dataset my adding all unique questions from the test and training sets\n",
    "* one way to get better question encodings is to have backward decoding in the model (I assume it is a well-known trick but I have not implemented it so far)\n",
    "* in some cases the relevant bits could have been filtered with a stoplist - it might make sense to discard all stoplists whatsoever\n",
    "* in some cases (like for the first pair) punctuation symbols matter - even if I filter stuff out it might make sense to track what share of original question remains for encoding part \n",
    "* in some cases the difference lies in just two rare tokens: chances are there are no distinct embeddings for them which ensures identical question embeddings - might make sense to use pretrained word2vec vectors as starting weights before calibrating them to my corpus\n",
    "* in some cases the tokes are so rare I would not expect to see them among pretrained models: this is a real problem as even if I calculate embeddings for them, these embeddings would be the same (as tokens appear only once or so in identical contexts) so question embeddings would also be the same - to single out these cases I may need to refer to tf-idf features\n",
    "* in some cases non-duplicate questions are just the same and no model would differentiate them: because of that I will have to clip the probabilities I submit to Kaggle"
   ]
  }
 ],
 "metadata": {
  "anaconda-cloud": {},
  "kernelspec": {
   "display_name": "Python [conda env:dl_env]",
   "language": "python",
   "name": "conda-env-dl_env-py"
  },
  "language_info": {
   "codemirror_mode": {
    "name": "ipython",
    "version": 3
   },
   "file_extension": ".py",
   "mimetype": "text/x-python",
   "name": "python",
   "nbconvert_exporter": "python",
   "pygments_lexer": "ipython3",
   "version": "3.5.3"
  }
 },
 "nbformat": 4,
 "nbformat_minor": 2
}
